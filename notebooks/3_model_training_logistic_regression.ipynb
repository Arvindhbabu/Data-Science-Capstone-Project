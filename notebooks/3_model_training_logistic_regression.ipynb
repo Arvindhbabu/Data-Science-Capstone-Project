{
  "nbformat": 4,
  "nbformat_minor": 0,
  "metadata": {
    "colab": {
      "provenance": []
    },
    "kernelspec": {
      "name": "python3",
      "display_name": "Python 3"
    },
    "language_info": {
      "name": "python"
    }
  },
  "cells": [
    {
      "cell_type": "markdown",
      "source": [
        "## Step 1: Load the Cleaned Dataset"
      ],
      "metadata": {
        "id": "MN0WfT2JSwVG"
      }
    },
    {
      "cell_type": "code",
      "execution_count": 10,
      "metadata": {
        "id": "tYiJiEpCSvlP"
      },
      "outputs": [],
      "source": [
        "import pandas as pd\n",
        "df = pd.read_csv(\"/content/cleaned_spacex_launches.csv\")"
      ]
    },
    {
      "cell_type": "markdown",
      "source": [
        "## Step 2: Handle Payload mass"
      ],
      "metadata": {
        "id": "jBTRwGrcTS3o"
      }
    },
    {
      "cell_type": "code",
      "source": [
        "df['Payload mass'] = pd.to_numeric(df['Payload mass'], errors='coerce')\n",
        "df = df.dropna(subset=['Payload mass'])"
      ],
      "metadata": {
        "id": "a7sEymE8TR2j"
      },
      "execution_count": 5,
      "outputs": []
    },
    {
      "cell_type": "markdown",
      "source": [
        "## Step 3: Select features and target"
      ],
      "metadata": {
        "id": "iu8rrMbIUEcX"
      }
    },
    {
      "cell_type": "code",
      "source": [
        "features = ['Payload mass', 'Orbit', 'Version, booster[h]', 'Launch site']\n",
        "target = 'Landing_Success'"
      ],
      "metadata": {
        "id": "twkU7VDdTYYn"
      },
      "execution_count": 13,
      "outputs": []
    },
    {
      "cell_type": "markdown",
      "source": [
        "## Step 4: One-hot encode categorical features"
      ],
      "metadata": {
        "id": "unSGMljtUT55"
      }
    },
    {
      "cell_type": "code",
      "source": [
        "X = pd.get_dummies(df[features])\n",
        "y = df[target]"
      ],
      "metadata": {
        "id": "BuuI4HPJUOyH"
      },
      "execution_count": 14,
      "outputs": []
    },
    {
      "cell_type": "markdown",
      "source": [
        "## Step 5: Train-test split"
      ],
      "metadata": {
        "id": "-Yd-QRbIUxXv"
      }
    },
    {
      "cell_type": "code",
      "source": [
        "from sklearn.model_selection import train_test_split\n",
        "X_train, X_test, y_train, y_test = train_test_split(X, y, test_size=0.2, random_state=42)"
      ],
      "metadata": {
        "id": "jp7fcbuwUW4V"
      },
      "execution_count": 15,
      "outputs": []
    },
    {
      "cell_type": "markdown",
      "source": [
        "## Step 6: Scale features"
      ],
      "metadata": {
        "id": "UKtPALM2U4Re"
      }
    },
    {
      "cell_type": "code",
      "source": [
        "from sklearn.preprocessing import StandardScaler\n",
        "scaler = StandardScaler()\n",
        "X_train_scaled = scaler.fit_transform(X_train)\n",
        "X_test_scaled = scaler.transform(X_test)"
      ],
      "metadata": {
        "id": "4XCgeGb-U3c_"
      },
      "execution_count": 16,
      "outputs": []
    },
    {
      "cell_type": "markdown",
      "source": [
        "## Step 7: Train a simple model (Logistic Regression)"
      ],
      "metadata": {
        "id": "enADSr9kVEed"
      }
    },
    {
      "cell_type": "code",
      "source": [
        "from sklearn.linear_model import LogisticRegression\n",
        "from sklearn.metrics import classification_report, confusion_matrix\n",
        "\n",
        "nan_mask = y_train.isna()\n",
        "X_train_scaled_cleaned = X_train_scaled[~nan_mask]\n",
        "y_train_cleaned = y_train[~nan_mask]\n",
        "\n",
        "model = LogisticRegression()\n",
        "model.fit(X_train_scaled_cleaned, y_train_cleaned)\n",
        "y_pred = model.predict(X_test_scaled)"
      ],
      "metadata": {
        "id": "-UGrkMW6U9al"
      },
      "execution_count": 22,
      "outputs": []
    },
    {
      "cell_type": "markdown",
      "source": [
        "## Step 8: Evaluate"
      ],
      "metadata": {
        "id": "XWiWyUdxVhR4"
      }
    },
    {
      "cell_type": "code",
      "source": [
        "nan_mask_test = y_test.isna()\n",
        "y_test_cleaned = y_test[~nan_mask_test]\n",
        "y_pred_cleaned = y_pred[~nan_mask_test]\n",
        "\n",
        "print(confusion_matrix(y_test_cleaned, y_pred_cleaned))\n",
        "print(classification_report(y_test_cleaned, y_pred_cleaned))"
      ],
      "metadata": {
        "colab": {
          "base_uri": "https://localhost:8080/"
        },
        "id": "yacP8DLFVOWo",
        "outputId": "0ec55556-d328-4ae3-c47a-eba134c8b68e"
      },
      "execution_count": 25,
      "outputs": [
        {
          "output_type": "stream",
          "name": "stdout",
          "text": [
            "[[ 0  1]\n",
            " [ 0 58]]\n",
            "              precision    recall  f1-score   support\n",
            "\n",
            "         0.0       0.00      0.00      0.00         1\n",
            "         1.0       0.98      1.00      0.99        58\n",
            "\n",
            "    accuracy                           0.98        59\n",
            "   macro avg       0.49      0.50      0.50        59\n",
            "weighted avg       0.97      0.98      0.97        59\n",
            "\n"
          ]
        },
        {
          "output_type": "stream",
          "name": "stderr",
          "text": [
            "/usr/local/lib/python3.11/dist-packages/sklearn/metrics/_classification.py:1565: UndefinedMetricWarning: Precision is ill-defined and being set to 0.0 in labels with no predicted samples. Use `zero_division` parameter to control this behavior.\n",
            "  _warn_prf(average, modifier, f\"{metric.capitalize()} is\", len(result))\n",
            "/usr/local/lib/python3.11/dist-packages/sklearn/metrics/_classification.py:1565: UndefinedMetricWarning: Precision is ill-defined and being set to 0.0 in labels with no predicted samples. Use `zero_division` parameter to control this behavior.\n",
            "  _warn_prf(average, modifier, f\"{metric.capitalize()} is\", len(result))\n",
            "/usr/local/lib/python3.11/dist-packages/sklearn/metrics/_classification.py:1565: UndefinedMetricWarning: Precision is ill-defined and being set to 0.0 in labels with no predicted samples. Use `zero_division` parameter to control this behavior.\n",
            "  _warn_prf(average, modifier, f\"{metric.capitalize()} is\", len(result))\n"
          ]
        }
      ]
    },
    {
      "cell_type": "code",
      "source": [],
      "metadata": {
        "id": "8EbocYx2VxBJ"
      },
      "execution_count": null,
      "outputs": []
    }
  ]
}